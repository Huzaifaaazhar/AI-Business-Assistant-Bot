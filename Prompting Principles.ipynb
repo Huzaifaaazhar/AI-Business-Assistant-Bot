{
 "cells": [
  {
   "cell_type": "code",
   "execution_count": null,
   "metadata": {},
   "outputs": [],
   "source": [
    "import os\n",
    "import openai\n",
    "from dotenv import load_dotenv"
   ]
  },
  {
   "cell_type": "code",
   "execution_count": null,
   "metadata": {},
   "outputs": [],
   "source": [
    "load_dotenv()\n",
    "\n",
    "openai.api_key = os.getenv('OPENAI_API_KEY')"
   ]
  },
  {
   "cell_type": "code",
   "execution_count": null,
   "metadata": {},
   "outputs": [],
   "source": [
    "def get_completion(prompt, model='gpt-3.5-turbo'):\n",
    "    messages = [{'role':'user', 'content':prompt}]\n",
    "    response = openai.chat.completions.create(\n",
    "        model=model,\n",
    "        messages=messages,\n",
    "    )\n",
    "    return response.choices[0].message.content"
   ]
  },
  {
   "cell_type": "code",
   "execution_count": null,
   "metadata": {},
   "outputs": [],
   "source": [
    "get_completion(\"Who're you?\")"
   ]
  },
  {
   "cell_type": "markdown",
   "metadata": {},
   "source": [
    "# **Prompting Priciple 1:**\n",
    "## Prompt should be Clear, Concise and Specific."
   ]
  },
  {
   "cell_type": "markdown",
   "metadata": {},
   "source": [
    "#### Tactic 1: Use Delimiter to clearly indiciate distinct parts of input."
   ]
  },
  {
   "cell_type": "code",
   "execution_count": null,
   "metadata": {},
   "outputs": [],
   "source": [
    "prompt = \"\"\"\n",
    "Please perform the following task:\n",
    "\n",
    "1. Summarize the text within the triple backticks.\n",
    "2. Provide key points as a bullet list.\n",
    "\n",
    "Text: ```Python is a high-level, interpreted programming language with dynamic semantics. It is widely used for web development,\\\n",
    "    data analysis, machine learning, and more due to its simplicity and readability.```\n",
    "\"\"\"\n",
    "\n",
    "response = get_completion(prompt)\n",
    "print(response)\n"
   ]
  },
  {
   "cell_type": "markdown",
   "metadata": {},
   "source": [
    "#### Tactic 2: Ask for a Structured output (Dict, List ETC.)."
   ]
  },
  {
   "cell_type": "code",
   "execution_count": null,
   "metadata": {},
   "outputs": [],
   "source": [
    "prompt = \"\"\"\n",
    "Analyze the following text and return the information in a JSON format:\n",
    "\n",
    "Text: \"ChatGPT is an AI model created by OpenAI to assist with various tasks. It uses machine learning and natural language processing to generate human-like text.\"\n",
    "\n",
    "Output format:\n",
    "Provide the output in a JSON Format.\n",
    "\"\"\"\n",
    "\n",
    "response = get_completion(prompt)\n",
    "print(response)"
   ]
  },
  {
   "cell_type": "markdown",
   "metadata": {},
   "source": [
    "#### Tactic 3: Ask to check whether conditions are satisfied (Steps)."
   ]
  },
  {
   "cell_type": "code",
   "execution_count": null,
   "metadata": {},
   "outputs": [],
   "source": [
    "prompt = \"\"\"\n",
    "Evaluate the following summary based on these criteria:\n",
    "\n",
    "Summary: \"Python is a versatile language used for various applications.\"\n",
    "\n",
    "Criteria:\n",
    "1. Is the summary accurate according to the text provided?\n",
    "2. Does it include at least two main points?\n",
    "3. Is the length of the summary appropriate?\n",
    "\n",
    "Please provide a yes or no answer for each criterion, followed by a brief explanation.\n",
    "\n",
    "Output format:\n",
    "{\n",
    "  \"is_accurate\": \"Yes/No - Explanation\",\n",
    "  \"includes_main_points\": \"Yes/No - Explanation\",\n",
    "  \"appropriate_length\": \"Yes/No - Explanation\"\n",
    "}\n",
    "\"\"\"\n",
    "\n",
    "response = get_completion(prompt)\n",
    "print(response)"
   ]
  },
  {
   "cell_type": "markdown",
   "metadata": {},
   "source": [
    "#### Tactic 4: Few-Shot Prompting (Tell in examples)."
   ]
  },
  {
   "cell_type": "code",
   "execution_count": null,
   "metadata": {},
   "outputs": [],
   "source": [
    "prompt = \"\"\"\n",
    "Transform the following sentences into a formal tone.\n",
    "\n",
    "Example 1:\n",
    "Informal: \"Hey, can you finish the report by tomorrow?\"\n",
    "Formal: \"Could you please complete the report by tomorrow?\"\n",
    "\n",
    "Example 2:\n",
    "Informal: \"Thanks for your help!\"\n",
    "Formal: \"I appreciate your assistance.\"\n",
    "\n",
    "Now, transform this sentence:\n",
    "Informal: \"I'm gonna need that file ASAP.\"\n",
    "\"\"\"\n",
    "\n",
    "response = get_completion(prompt)\n",
    "print(response)"
   ]
  },
  {
   "cell_type": "markdown",
   "metadata": {},
   "source": [
    "# **Prompting Priciple 2:**\n",
    "## Give your Model Time to think."
   ]
  },
  {
   "cell_type": "markdown",
   "metadata": {},
   "source": [
    "#### Tactic 1: Specify the steps required to complete a task."
   ]
  },
  {
   "cell_type": "code",
   "execution_count": null,
   "metadata": {},
   "outputs": [],
   "source": [
    "prompt = \"\"\"\n",
    "You are a tutor helping a student understand how to summarize a text. Follow these steps to provide a thorough summary:\n",
    "\n",
    "1. **Read the text carefully** to understand the main ideas and important details.\n",
    "2. **Identify key points** by underlining or highlighting important facts and concepts.\n",
    "3. **Rewrite these key points in your own words** to ensure a clear understanding.\n",
    "4. **Organize the key points into a coherent summary**, starting with the main idea and then elaborating with supporting details.\n",
    "5. **Review your summary to ensure it is concise and accurately reflects the original text**.\n",
    "\n",
    "Text to summarize:\n",
    "\"Machine learning is a method of data analysis that automates analytical model building. It is a branch of artificial intelligence based on the idea that systems can learn from data, identify patterns, and make decisions with minimal human intervention.\"\n",
    "\n",
    "Provide your summary following the steps above.\n",
    "\"\"\"\n",
    "\n",
    "response = get_completion(prompt)\n",
    "print(response)"
   ]
  },
  {
   "cell_type": "markdown",
   "metadata": {},
   "source": [
    "#### Tactic 2: Instruct the model to work out it's own solution before rushing to a conclusion."
   ]
  },
  {
   "cell_type": "code",
   "execution_count": null,
   "metadata": {},
   "outputs": [],
   "source": [
    "prompt = \"\"\"\n",
    "You are solving a math problem and need to think through each step carefully before coming to a conclusion. \n",
    "\n",
    "**Problem:** A train travels from City A to City B at a speed of 60 km/h. If the distance between the two cities is 300 km, how long does it take for the train to reach City B?\n",
    "\n",
    "**Instructions:** \n",
    "\n",
    "1. **Identify the variables involved** in the problem and write them down.\n",
    "2. **Recall the formula** needed to calculate the time taken based on speed and distance.\n",
    "3. **Apply the formula** to calculate the time, showing your working step-by-step.\n",
    "4. **Double-check your calculations** to ensure they are correct.\n",
    "5. **State your final answer**.\n",
    "\n",
    "Work out the solution step-by-step before giving the final answer.\n",
    "\"\"\"\n",
    "\n",
    "response = get_completion(prompt)\n",
    "print(response)"
   ]
  }
 ],
 "metadata": {
  "kernelspec": {
   "display_name": "Python 3",
   "language": "python",
   "name": "python3"
  },
  "language_info": {
   "codemirror_mode": {
    "name": "ipython",
    "version": 3
   },
   "file_extension": ".py",
   "mimetype": "text/x-python",
   "name": "python",
   "nbconvert_exporter": "python",
   "pygments_lexer": "ipython3",
   "version": "3.12.4"
  }
 },
 "nbformat": 4,
 "nbformat_minor": 2
}
